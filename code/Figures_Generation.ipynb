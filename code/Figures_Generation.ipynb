{
 "cells": [
  {
   "cell_type": "code",
   "execution_count": 2,
   "id": "bored-irrigation",
   "metadata": {
    "ExecuteTime": {
     "end_time": "2022-03-14T09:10:41.793643Z",
     "start_time": "2022-03-14T09:10:38.962109Z"
    }
   },
   "outputs": [],
   "source": [
    "import numpy as np\n",
    "import matplotlib.pyplot as plt\n",
    "from matplotlib.mlab import psd\n",
    "import seaborn as sns\n",
    "import imageio\n",
    "from scipy import signal\n",
    "from PIL import Image\n",
    "\n",
    "import os\n",
    "\n",
    "import params as par\n",
    "import numerical_integration as mf\n",
    "\n",
    "%load_ext autoreload\n",
    "%autoreload 2"
   ]
  },
  {
   "cell_type": "code",
   "execution_count": 3,
   "id": "three-canon",
   "metadata": {
    "ExecuteTime": {
     "end_time": "2022-03-14T09:10:41.834888Z",
     "start_time": "2022-03-14T09:10:41.796923Z"
    }
   },
   "outputs": [],
   "source": [
    "LOCAL_PATH = os.getcwd()\n",
    "CODE_PATH = '/Users/emanuelepigani/Documents/Pattern/PatternFormation/code'\n",
    "os.chdir(CODE_PATH)\n",
    "\n",
    "SIMULATIONS_PATH = '/Users/emanuelepigani/Documents/Pattern/simulations'\n",
    "LOG_PATH = '/Users/emanuelepigani/Documents/Pattern/log'\n",
    "FIG_PATH = '/Users/emanuelepigani/Documents/Pattern/fig'"
   ]
  },
  {
   "cell_type": "markdown",
   "id": "married-oasis",
   "metadata": {},
   "source": [
    "# Plots "
   ]
  },
  {
   "cell_type": "code",
   "execution_count": 10,
   "id": "synthetic-equity",
   "metadata": {
    "ExecuteTime": {
     "end_time": "2022-03-14T09:19:08.081823Z",
     "start_time": "2022-03-14T09:19:08.050107Z"
    }
   },
   "outputs": [],
   "source": [
    "flag_gif = False\n",
    "flag_temporal = False\n",
    "flag_PS = False\n",
    "flag_RSA_loc = False\n",
    "flag_RSA_glob = True"
   ]
  },
  {
   "cell_type": "code",
   "execution_count": 11,
   "id": "powered-assault",
   "metadata": {
    "ExecuteTime": {
     "end_time": "2022-03-14T09:20:24.492490Z",
     "start_time": "2022-03-14T09:19:08.559565Z"
    },
    "scrolled": true
   },
   "outputs": [
    {
     "name": "stdout",
     "output_type": "stream",
     "text": [
      "Analysis of dA = 0.21, dB = 1.21, S = 100, c = 0.25, sigma = 0.20, Nsteps = 100000, Ntau = 900, tau = 4.3456 \n",
      "\n",
      "Analysis of dA = 0.21, dB = 1.21, S = 100, c = 0.25, sigma = 0.20, Nsteps = 100000, Ntau = 900, tau = 4.3456 \n",
      "\n",
      "Analysis of dA = 0.21, dB = 1.21, S = 100, c = 0.25, sigma = 0.20, Nsteps = 100000, Ntau = 1000, tau = 4.8284 \n",
      "\n",
      "Analysis of dA = 0.21, dB = 1.21, S = 100, c = 0.25, sigma = 0.20, Nsteps = 100000, Ntau = 1000, tau = 4.8284 \n",
      "\n",
      "Analysis of dA = 0.21, dB = 1.21, S = 100, c = 0.25, sigma = 0.20, Nsteps = 100000, Ntau = 1100, tau = 5.3113 \n",
      "\n",
      "Analysis of dA = 0.21, dB = 1.21, S = 100, c = 0.25, sigma = 0.20, Nsteps = 100000, Ntau = 1100, tau = 5.3113 \n",
      "\n",
      "Analysis of dA = 0.21, dB = 1.21, S = 101, c = 0.25, sigma = 0.20, Nsteps = 100000, Ntau = 900, tau = 4.3456 \n",
      "\n",
      "Analysis of dA = 0.21, dB = 1.21, S = 101, c = 0.25, sigma = 0.20, Nsteps = 100000, Ntau = 900, tau = 4.3456 \n",
      "\n",
      "Analysis of dA = 0.21, dB = 1.21, S = 101, c = 0.25, sigma = 0.20, Nsteps = 100000, Ntau = 1000, tau = 4.8284 \n",
      "\n",
      "Analysis of dA = 0.21, dB = 1.21, S = 101, c = 0.25, sigma = 0.20, Nsteps = 100000, Ntau = 1000, tau = 4.8284 \n",
      "\n",
      "Analysis of dA = 0.21, dB = 1.21, S = 101, c = 0.25, sigma = 0.20, Nsteps = 100000, Ntau = 1100, tau = 5.3113 \n",
      "\n",
      "Analysis of dA = 0.21, dB = 1.21, S = 101, c = 0.25, sigma = 0.20, Nsteps = 100000, Ntau = 1100, tau = 5.3113 \n",
      "\n",
      "Analysis of dA = 0.21, dB = 1.21, S = 102, c = 0.25, sigma = 0.20, Nsteps = 100000, Ntau = 900, tau = 4.3456 \n",
      "\n",
      "Analysis of dA = 0.21, dB = 1.21, S = 102, c = 0.25, sigma = 0.20, Nsteps = 100000, Ntau = 900, tau = 4.3456 \n",
      "\n",
      "Analysis of dA = 0.21, dB = 1.21, S = 102, c = 0.25, sigma = 0.20, Nsteps = 100000, Ntau = 1000, tau = 4.8284 \n",
      "\n",
      "Analysis of dA = 0.21, dB = 1.21, S = 102, c = 0.25, sigma = 0.20, Nsteps = 100000, Ntau = 1000, tau = 4.8284 \n",
      "\n",
      "Analysis of dA = 0.21, dB = 1.21, S = 102, c = 0.25, sigma = 0.20, Nsteps = 100000, Ntau = 1100, tau = 5.3113 \n",
      "\n",
      "Analysis of dA = 0.21, dB = 1.21, S = 102, c = 0.25, sigma = 0.20, Nsteps = 100000, Ntau = 1100, tau = 5.3113 \n",
      "\n"
     ]
    }
   ],
   "source": [
    "for arg in range(9):\n",
    "    for flag in ['normal', 'stabilized']:\n",
    "        dA, dB, S, c, sigma, Nsteps, Ntau, Dt, tau = mf.return_parameters(par.parameters[arg])\n",
    "        print ('Analysis of dA = {0:1.2f}, dB = {1:1.2f}, S = {2}, c = {3:1.2f}, sigma = {4:1.2f}, Nsteps = {5}, Ntau = {6}, tau = {7:1.4f} \\n'.format(dA,dB,S,c,sigma,Nsteps,Ntau, tau))\n",
    "        os.chdir(SIMULATIONS_PATH)\n",
    "        arg_count = 0\n",
    "        \n",
    "        filename = '{0}_dA_{1:1.2f}_dB_{2:1.2f}_S_{3}_c_{4:1.2f}_sigma_{5:1.2f}_Nsteps_{6}_Ntau_{7}'.format(flag, dA,dB,S,c,sigma,Nsteps,Ntau)\n",
    "        A = np.load(filename + '.npz')\n",
    "        os.chdir(LOCAL_PATH)\n",
    "        \n",
    "        X, U, lmbda, eig_B = A['X'], A['U'], A['lmbda'], A['eig_B']\n",
    "        \n",
    "        if flag_gif:\n",
    "            mf.make_gif(dA,dB,S,c,sigma,Nsteps,Ntau)\n",
    "        if flag_temporal:\n",
    "            mf.temporal_evolution_plot(X[:], dA,dB,S,c,sigma,Nsteps, Ntau, Dt, number_of_species=S, filename=filename, step=100, unit='time', evolution_of='X')\n",
    "        if flag_PS:\n",
    "            f, Ps = mf.power_spectral_density(U[10*Ntau:,:].real, dA,dB,S,c,sigma,Nsteps, Ntau, Dt, filename, evolution_of='U')\n",
    "        if flag_temporal:\n",
    "            mf.temporal_evolution_plot(U[:].real, dA,dB,S,c,sigma,Nsteps, Ntau, Dt, number_of_species=S, filename=filename, step=100, unit='time', evolution_of='U')\n",
    "        if flag_PS:\n",
    "            fig, ax, f = mf.power_spectral_density2(U[10*Ntau:,:].real, dA,dB,S,c,sigma,Nsteps, Ntau, Dt, filename, evolution_of='U')\n",
    "            os.chdir(LOCAL_PATH)\n",
    "            ax.set_xlim(5*1e-6, 5*1e-1)\n",
    "            ylim = (-300, 100)\n",
    "            ax.set_ylim(*ylim)\n",
    "            ax.set_yticks(np.arange(*ylim, 50))\n",
    "            directory = '/{}/'.format(filename)\n",
    "            os.chdir(FIG_PATH+directory)\n",
    "            for i in range(100):\n",
    "                fn = 'PowerSpectrum_{}_{}_{}.png'.format('U', filename, i)\n",
    "                #filename = 'Xdistr_PS_dA_{0:1.2f}_dB_{1:1.2f}_S_{2}_c_{3:1.2f}_sigma_{4:1.2f}_Nsteps_{5}_tau_{6}_{7}.png'.format(dA,dB,S,c,sigma,Nsteps,Ntau, i)\n",
    "                if os.path.exists(fn)==False:\n",
    "                    break\n",
    "            fig.savefig(fn, dpi=200)\n",
    "        os.chdir(LOCAL_PATH)\n",
    "        \n",
    "#         fig, ax = plt.subplots(figsize=(16,9))\n",
    "#         ax.set_xlabel('Observed frequencies')\n",
    "#         ax.set_ylabel('Expected frequencies')\n",
    "\n",
    "#         ax.scatter(2*np.pi*np.sort(f)/Dt, np.sort(np.abs(lmbda.imag)))\n",
    "#         ax.plot(2*np.pi*np.sort(f)/Dt, 2*np.pi*np.sort(f)/Dt, ls='--')\n",
    "\n",
    "        starting_point = Ntau*10\n",
    "        interval_between_points = 100\n",
    "        snapshots = np.arange(starting_point, X.shape[0]-1, interval_between_points, dtype='int')\n",
    "        xlim = (np.min(X[starting_point:]), np.max(X[starting_point:]))\n",
    "        \n",
    "        directory = '/{}/RSA/'.format(filename)\n",
    "        if flag_RSA_loc:\n",
    "            os.makedirs(FIG_PATH+directory,  exist_ok=True)\n",
    "            os.chdir(FIG_PATH+directory)\n",
    "            for i in snapshots:\n",
    "                fig, ax = plt.subplots(figsize=(16,9))\n",
    "                ax.hist(X[i,:])\n",
    "                ax.set_xlim(*xlim)\n",
    "                ax.set_title('t = {0:1.2f}'.format(i*Dt))\n",
    "                fn = filename + '_' + str(i) + '.png'\n",
    "                fig.savefig(fn, dpi=50)\n",
    "                plt.close()\n",
    "        os.chdir(LOCAL_PATH)\n",
    "        \n",
    "        if flag_RSA_glob:\n",
    "            for kind in ['mean', 'mean_squared', 'max']:\n",
    "                y, bins = mf.RSA(X, kind, S, Ntau, Dt, filename, steps_range=(50000, Nsteps))"
   ]
  },
  {
   "cell_type": "markdown",
   "id": "stock-terminology",
   "metadata": {},
   "source": [
    "# Make gif of RSA"
   ]
  },
  {
   "cell_type": "code",
   "execution_count": null,
   "id": "medieval-classic",
   "metadata": {
    "ExecuteTime": {
     "end_time": "2022-03-08T13:20:42.341563Z",
     "start_time": "2022-03-08T13:06:47.580548Z"
    }
   },
   "outputs": [],
   "source": [
    "for arg in range(9):\n",
    "    for flag in ['normal', 'stabilized']:\n",
    "        dA, dB, S, c, sigma, Nsteps, Ntau, Dt, tau = mf.return_parameters(par.parameters[arg])\n",
    "        print ('Analysis of dA = {0:1.2f}, dB = {1:1.2f}, S = {2}, c = {3:1.2f}, sigma = {4:1.2f}, Nsteps = {5}, Ntau = {6}, tau = {7:1.4f}'.format(dA,dB,S,c,sigma,Nsteps,Ntau, tau))\n",
    "        os.chdir(SIMULATIONS_PATH)\n",
    "        arg_count = 0\n",
    "        \n",
    "        filename = '{0}_dA_{1:1.2f}_dB_{2:1.2f}_S_{3}_c_{4:1.2f}_sigma_{5:1.2f}_Nsteps_{6}_Ntau_{7}'.format(flag, dA,dB,S,c,sigma,Nsteps,Ntau)\n",
    "        os.chdir(FIG_PATH+directory)\n",
    "        directory = '/{}/RSA/'.format(filename)\n",
    "        os.chdir(FIG_PATH+directory)\n",
    "        \n",
    "        starting_point = Ntau*10\n",
    "        interval_between_points = 100\n",
    "        snapshots = np.arange(starting_point, X.shape[0]-1, interval_between_points, dtype='int')\n",
    "        xlim = (np.min(X[starting_point:]), np.max(X[starting_point:]))\n",
    "        \n",
    "        images = []\n",
    "        for i in snapshots:\n",
    "            fn = filename + '_' + str(i) + '.png'\n",
    "            try:\n",
    "                if fn.endswith('.png'):\n",
    "                        #file_path = os.path.join(directory, filename)\n",
    "                        images.append(imageio.imread(fn))\n",
    "            except:\n",
    "                pass\n",
    "        imageio.mimsave('animation.gif', images, fps=10)\n",
    "        os.chdir(LOCAL_PATH)"
   ]
  },
  {
   "cell_type": "code",
   "execution_count": 14,
   "id": "sublime-finder",
   "metadata": {
    "ExecuteTime": {
     "end_time": "2022-03-14T09:32:35.992228Z",
     "start_time": "2022-03-14T09:31:05.734461Z"
    }
   },
   "outputs": [
    {
     "name": "stdout",
     "output_type": "stream",
     "text": [
      "Analysis of dA = 0.21, dB = 1.21, S = 100, c = 0.25, sigma = 0.20, Nsteps = 100000, Ntau = 900, tau = 4.3456\n",
      "Analysis of dA = 0.21, dB = 1.21, S = 100, c = 0.25, sigma = 0.20, Nsteps = 100000, Ntau = 1000, tau = 4.8284\n",
      "Analysis of dA = 0.21, dB = 1.21, S = 100, c = 0.25, sigma = 0.20, Nsteps = 100000, Ntau = 1100, tau = 5.3113\n",
      "Analysis of dA = 0.21, dB = 1.21, S = 101, c = 0.25, sigma = 0.20, Nsteps = 100000, Ntau = 900, tau = 4.3456\n",
      "Analysis of dA = 0.21, dB = 1.21, S = 101, c = 0.25, sigma = 0.20, Nsteps = 100000, Ntau = 1000, tau = 4.8284\n",
      "Analysis of dA = 0.21, dB = 1.21, S = 101, c = 0.25, sigma = 0.20, Nsteps = 100000, Ntau = 1100, tau = 5.3113\n",
      "Analysis of dA = 0.21, dB = 1.21, S = 102, c = 0.25, sigma = 0.20, Nsteps = 100000, Ntau = 900, tau = 4.3456\n",
      "Analysis of dA = 0.21, dB = 1.21, S = 102, c = 0.25, sigma = 0.20, Nsteps = 100000, Ntau = 1000, tau = 4.8284\n",
      "Analysis of dA = 0.21, dB = 1.21, S = 102, c = 0.25, sigma = 0.20, Nsteps = 100000, Ntau = 1100, tau = 5.3113\n",
      "Analysis of dA = 0.21, dB = 1.21, S = 100, c = 0.25, sigma = 0.20, Nsteps = 100000, Ntau = 900, tau = 4.3456\n",
      "Analysis of dA = 0.21, dB = 1.21, S = 100, c = 0.25, sigma = 0.20, Nsteps = 100000, Ntau = 1000, tau = 4.8284\n",
      "Analysis of dA = 0.21, dB = 1.21, S = 100, c = 0.25, sigma = 0.20, Nsteps = 100000, Ntau = 1100, tau = 5.3113\n",
      "Analysis of dA = 0.21, dB = 1.21, S = 101, c = 0.25, sigma = 0.20, Nsteps = 100000, Ntau = 900, tau = 4.3456\n",
      "Analysis of dA = 0.21, dB = 1.21, S = 101, c = 0.25, sigma = 0.20, Nsteps = 100000, Ntau = 1000, tau = 4.8284\n",
      "Analysis of dA = 0.21, dB = 1.21, S = 101, c = 0.25, sigma = 0.20, Nsteps = 100000, Ntau = 1100, tau = 5.3113\n",
      "Analysis of dA = 0.21, dB = 1.21, S = 102, c = 0.25, sigma = 0.20, Nsteps = 100000, Ntau = 900, tau = 4.3456\n",
      "Analysis of dA = 0.21, dB = 1.21, S = 102, c = 0.25, sigma = 0.20, Nsteps = 100000, Ntau = 1000, tau = 4.8284\n",
      "Analysis of dA = 0.21, dB = 1.21, S = 102, c = 0.25, sigma = 0.20, Nsteps = 100000, Ntau = 1100, tau = 5.3113\n"
     ]
    }
   ],
   "source": [
    "# im_evolution_X = []\n",
    "# im_evolution_U = []\n",
    "# im_PS_U = []\n",
    "# im_RSA_mean = []\n",
    "for flag in ['normal', 'stabilized']:\n",
    "    im_evolution_X = []\n",
    "    im_evolution_U = []\n",
    "    im_PS_U = []\n",
    "    im_RSA_mean = []\n",
    "    im_RSA_mean2 = []\n",
    "    im_RSA_max = []\n",
    "    for arg in range(9):\n",
    "        dA, dB, S, c, sigma, Nsteps, Ntau, Dt, tau = mf.return_parameters(par.parameters[arg])\n",
    "        print ('Analysis of dA = {0:1.2f}, dB = {1:1.2f}, S = {2}, c = {3:1.2f}, sigma = {4:1.2f}, Nsteps = {5}, Ntau = {6}, tau = {7:1.4f}'.format(dA,dB,S,c,sigma,Nsteps,Ntau, tau))\n",
    "        arg_count = 0\n",
    "        \n",
    "        filename = '{0}_dA_{1:1.2f}_dB_{2:1.2f}_S_{3}_c_{4:1.2f}_sigma_{5:1.2f}_Nsteps_{6}_Ntau_{7}'.format(flag, dA,dB,S,c,sigma,Nsteps,Ntau)\n",
    "        directory = '/{}/'.format(filename)\n",
    "        os.chdir(FIG_PATH+directory)\n",
    "        evolution_of = 'X'\n",
    "        fn = '{}_{}.png'.format(evolution_of, filename)\n",
    "        im_evolution_X.append(Image.open(fn))\n",
    "        evolution_of = 'U'\n",
    "        fn = '{}_{}.png'.format(evolution_of, filename)\n",
    "        im_evolution_U.append(Image.open(fn))\n",
    "        fn = 'PowerSpectrum_{}_{}.png'.format('U', filename)\n",
    "        im_PS_U.append(Image.open(fn))\n",
    "        fn = 'RSA_{}_{}.png'.format('mean', filename)\n",
    "        im_RSA_mean.append(Image.open(fn))\n",
    "        fn = 'RSA_{}_{}.png'.format('mean_squared', filename)\n",
    "        im_RSA_mean2.append(Image.open(fn))\n",
    "        fn = 'RSA_{}_{}.png'.format('max', filename)\n",
    "        im_RSA_max.append(Image.open(fn))\n",
    "        \n",
    "    w, h = im_PS_U[0].size\n",
    "    shape = (3,3)\n",
    "    image_evolution_X = Image.new('RGB', (w*shape[0], h*shape[1]))\n",
    "    image_evolution_U = Image.new('RGB', (w*shape[0], h*shape[1]))\n",
    "    image_PS = Image.new('RGB', (w*shape[0], h*shape[1]))\n",
    "    image_RSA_mean = Image.new('RGB', (w*shape[0], h*shape[1]))\n",
    "    image_RSA_mean2 = Image.new('RGB', (w*shape[0], h*shape[1]))\n",
    "    image_RSA_max = Image.new('RGB', (w*shape[0], h*shape[1]))\n",
    "\n",
    "    for i in range(shape[1]):\n",
    "        for j in range(shape[0]):\n",
    "            image_evolution_X.paste(im_evolution_X[shape[0]*i+j], (w*i, h*j))\n",
    "            image_evolution_U.paste(im_evolution_U[shape[0]*i+j], (w*i, h*j))\n",
    "            image_PS.paste(im_PS_U[shape[0]*i+j], (w*i, h*j))\n",
    "            image_RSA_mean.paste(im_RSA_mean[shape[0]*i+j], (w*i, h*j))\n",
    "            image_RSA_mean2.paste(im_RSA_mean2[shape[0]*i+j], (w*i, h*j))\n",
    "            image_RSA_max.paste(im_RSA_max[shape[0]*i+j], (w*i, h*j))\n",
    "    directory = '/results/{}/'.format(flag)\n",
    "    os.makedirs(FIG_PATH + directory, exist_ok=True)\n",
    "    os.chdir(FIG_PATH+directory)\n",
    "    fn = '{0}_dA_{1:1.2f}_dB_{2:1.2f}'.format(flag, dA,dB)\n",
    "    image_evolution_X.save('X_'+fn+'.png')\n",
    "    image_evolution_U.save('U_'+fn+'.png')\n",
    "    image_PS.save('PS_U_'+fn+'.png')\n",
    "    image_RSA_mean.save('RSA_mean_' + fn + '.png')\n",
    "    image_RSA_mean2.save('RSA_mean_squared_' + fn + '.png')\n",
    "    image_RSA_max.save('RSA_max_' + fn + '.png')"
   ]
  },
  {
   "cell_type": "code",
   "execution_count": null,
   "id": "amino-portal",
   "metadata": {},
   "outputs": [],
   "source": []
  },
  {
   "cell_type": "code",
   "execution_count": null,
   "id": "willing-baptist",
   "metadata": {},
   "outputs": [],
   "source": []
  },
  {
   "cell_type": "code",
   "execution_count": null,
   "id": "strange-lemon",
   "metadata": {},
   "outputs": [],
   "source": []
  },
  {
   "cell_type": "code",
   "execution_count": null,
   "id": "mineral-variance",
   "metadata": {},
   "outputs": [],
   "source": []
  },
  {
   "cell_type": "code",
   "execution_count": null,
   "id": "thorough-belize",
   "metadata": {},
   "outputs": [],
   "source": []
  },
  {
   "cell_type": "code",
   "execution_count": null,
   "id": "atlantic-method",
   "metadata": {
    "ExecuteTime": {
     "end_time": "2022-03-07T12:54:43.202508Z",
     "start_time": "2022-03-07T12:54:43.167259Z"
    }
   },
   "outputs": [],
   "source": [
    "os.chdir(SIMULATIONS_PATH)\n",
    "arg_count = 0\n",
    "flag = 'normal'\n",
    "filename = '{0}_dA_{1:1.2f}_dB_{2:1.2f}_S_{3}_c_{4:1.2f}_sigma_{5:1.2f}_Nsteps_{6}_Ntau_{7}'.format(flag, dA,dB,S,c,sigma,Nsteps,Ntau)\n",
    "A = np.load(filename + '.npz')\n",
    "os.chdir(LOCAL_PATH)"
   ]
  },
  {
   "cell_type": "code",
   "execution_count": null,
   "id": "military-finding",
   "metadata": {
    "ExecuteTime": {
     "end_time": "2022-03-07T12:55:35.419290Z",
     "start_time": "2022-03-07T12:55:34.112542Z"
    }
   },
   "outputs": [],
   "source": [
    "X, U, lmbda, eig_B = A['X'], A['U'], A['lmbda'], A['eig_B']"
   ]
  },
  {
   "cell_type": "code",
   "execution_count": null,
   "id": "controlled-surgery",
   "metadata": {
    "ExecuteTime": {
     "end_time": "2022-03-07T12:55:37.483914Z",
     "start_time": "2022-03-07T12:55:37.432032Z"
    }
   },
   "outputs": [],
   "source": [
    "Ntau, Nsteps,tau, Dt, dA"
   ]
  },
  {
   "cell_type": "code",
   "execution_count": null,
   "id": "incorporated-scratch",
   "metadata": {
    "ExecuteTime": {
     "end_time": "2022-03-04T09:38:08.200418Z",
     "start_time": "2022-03-04T09:38:05.212Z"
    }
   },
   "outputs": [],
   "source": [
    "os.chdir(LOCAL_PATH)\n",
    "mf.make_gif(dA,dB,S,c,sigma,Nsteps,Ntau)\n",
    "os.chdir(LOCAL_PATH)"
   ]
  },
  {
   "cell_type": "code",
   "execution_count": null,
   "id": "floating-waterproof",
   "metadata": {
    "ExecuteTime": {
     "end_time": "2022-03-07T12:59:45.057925Z",
     "start_time": "2022-03-07T12:59:42.874068Z"
    }
   },
   "outputs": [],
   "source": [
    "os.chdir(LOCAL_PATH)\n",
    "mf.temporal_evolution_plot(X[:], dA,dB,S,c,sigma,Nsteps, Ntau, Dt, number_of_species=S, filename=filename, step=100, unit='time', evolution_of='X')\n",
    "os.chdir(LOCAL_PATH)"
   ]
  },
  {
   "cell_type": "code",
   "execution_count": null,
   "id": "chinese-bench",
   "metadata": {
    "ExecuteTime": {
     "end_time": "2022-03-07T13:00:24.300268Z",
     "start_time": "2022-03-07T13:00:22.777687Z"
    }
   },
   "outputs": [],
   "source": [
    "os.chdir(LOCAL_PATH)\n",
    "mf.temporal_evolution_plot(U[:].real, dA,dB,S,c,sigma,Nsteps, Ntau, Dt, number_of_species=S, filename=filename, step=100, unit='time', evolution_of='U')\n",
    "os.chdir(LOCAL_PATH)"
   ]
  },
  {
   "cell_type": "code",
   "execution_count": null,
   "id": "unlike-hartford",
   "metadata": {
    "ExecuteTime": {
     "end_time": "2022-03-07T13:08:58.382399Z",
     "start_time": "2022-03-07T13:08:56.411524Z"
    }
   },
   "outputs": [],
   "source": [
    "os.chdir(LOCAL_PATH)\n",
    "f, Ps = mf.power_spectral_density(U[10*Ntau:,:].real, dA,dB,S,c,sigma,Nsteps, Ntau, Dt, filename, evolution_of='U')\n",
    "os.chdir(LOCAL_PATH)"
   ]
  },
  {
   "cell_type": "code",
   "execution_count": null,
   "id": "brilliant-adjustment",
   "metadata": {
    "ExecuteTime": {
     "end_time": "2022-03-07T13:26:15.040840Z",
     "start_time": "2022-03-07T13:26:06.119804Z"
    }
   },
   "outputs": [],
   "source": [
    "os.chdir(LOCAL_PATH)\n",
    "fig, ax, f = mf.power_spectral_density2(U[10*Ntau:,:].real, dA,dB,S,c,sigma,Nsteps, Ntau, Dt, filename, evolution_of='U')\n",
    "os.chdir(LOCAL_PATH)\n",
    "ax.set_xlim(5*1e-6, 5*1e-1)\n",
    "ylim = (-300, 100)\n",
    "ax.set_ylim(*ylim)\n",
    "ax.set_yticks(np.arange(*ylim, 50))\n",
    "directory = '/{}/'.format(filename)\n",
    "os.chdir(FIG_PATH+directory)\n",
    "for i in range(100):\n",
    "    fn = 'PowerSpectrum_{}_{}_{}.png'.format('U', filename, i)\n",
    "    #filename = 'Xdistr_PS_dA_{0:1.2f}_dB_{1:1.2f}_S_{2}_c_{3:1.2f}_sigma_{4:1.2f}_Nsteps_{5}_tau_{6}_{7}.png'.format(dA,dB,S,c,sigma,Nsteps,Ntau, i)\n",
    "    if os.path.exists(fn)==False:\n",
    "        break\n",
    "fig.savefig(fn, dpi=200)\n",
    "os.chdir(LOCAL_PATH)"
   ]
  },
  {
   "cell_type": "code",
   "execution_count": null,
   "id": "demographic-hamilton",
   "metadata": {
    "ExecuteTime": {
     "end_time": "2022-03-07T13:27:11.846555Z",
     "start_time": "2022-03-07T13:27:11.538410Z"
    }
   },
   "outputs": [],
   "source": [
    "fig, ax = plt.subplots(figsize=(16,9))\n",
    "ax.set_xlabel('Observed frequencies')\n",
    "ax.set_ylabel('Expected frequencies')\n",
    "\n",
    "ax.scatter(2*np.pi*np.sort(f)/Dt, np.sort(np.abs(lmbda.imag)))\n",
    "ax.plot(2*np.pi*np.sort(f)/Dt, 2*np.pi*np.sort(f)/Dt, ls='--')"
   ]
  },
  {
   "cell_type": "markdown",
   "id": "multiple-pricing",
   "metadata": {},
   "source": [
    "# RSA"
   ]
  },
  {
   "cell_type": "code",
   "execution_count": null,
   "id": "crude-values",
   "metadata": {
    "ExecuteTime": {
     "end_time": "2022-03-07T13:55:59.360990Z",
     "start_time": "2022-03-07T13:55:59.300492Z"
    }
   },
   "outputs": [],
   "source": [
    "starting_point = Ntau*10\n",
    "interval_between_points = 1000\n",
    "snapshots = np.arange(starting_point, X.shape[0]-1, interval_between_points, dtype='int')\n",
    "xlim = (np.min(X[starting_point:]), np.max(X[starting_point:]))"
   ]
  },
  {
   "cell_type": "code",
   "execution_count": null,
   "id": "compound-geology",
   "metadata": {
    "ExecuteTime": {
     "end_time": "2022-03-07T13:56:11.806945Z",
     "start_time": "2022-03-07T13:56:00.354810Z"
    }
   },
   "outputs": [],
   "source": [
    "directory = '/{}/RSA/'.format(filename)\n",
    "os.makedirs(FIG_PATH+directory,  exist_ok=True)\n",
    "os.chdir(FIG_PATH+directory)\n",
    "for i in snapshots:\n",
    "    fig, ax = plt.subplots(figsize=(16,9))\n",
    "    ax.hist(X[i,:])\n",
    "    ax.set_xlim(*xlim)\n",
    "    fn = filename + '_' + str(i) + '.png'\n",
    "    fig.savefig(fn, dpi=50)\n",
    "    plt.close()"
   ]
  },
  {
   "cell_type": "code",
   "execution_count": null,
   "id": "naval-coordinator",
   "metadata": {
    "ExecuteTime": {
     "end_time": "2022-03-07T13:56:22.599532Z",
     "start_time": "2022-03-07T13:56:17.586070Z"
    }
   },
   "outputs": [],
   "source": [
    "images = []\n",
    "for i in snapshots:\n",
    "    fn = filename + '_' + str(i) + '.png'\n",
    "    try:\n",
    "        if fn.endswith('.png'):\n",
    "                #file_path = os.path.join(directory, filename)\n",
    "                images.append(imageio.imread(fn))\n",
    "    except:\n",
    "        pass\n",
    "imageio.mimsave('animation.gif', images, fps=10)\n",
    "os.chdir(LOCAL_PATH)"
   ]
  },
  {
   "cell_type": "code",
   "execution_count": null,
   "id": "retained-bailey",
   "metadata": {
    "ExecuteTime": {
     "end_time": "2022-03-07T14:00:12.645554Z",
     "start_time": "2022-03-07T14:00:12.601085Z"
    }
   },
   "outputs": [],
   "source": [
    "a = np.array([1,2,4j])"
   ]
  },
  {
   "cell_type": "code",
   "execution_count": null,
   "id": "outstanding-mediterranean",
   "metadata": {
    "ExecuteTime": {
     "end_time": "2022-03-07T14:00:13.122140Z",
     "start_time": "2022-03-07T14:00:13.080248Z"
    }
   },
   "outputs": [],
   "source": [
    "a**2"
   ]
  },
  {
   "cell_type": "code",
   "execution_count": null,
   "id": "technological-singing",
   "metadata": {},
   "outputs": [],
   "source": []
  },
  {
   "cell_type": "code",
   "execution_count": null,
   "id": "female-punch",
   "metadata": {},
   "outputs": [],
   "source": []
  },
  {
   "cell_type": "code",
   "execution_count": null,
   "id": "thermal-valentine",
   "metadata": {},
   "outputs": [],
   "source": []
  },
  {
   "cell_type": "code",
   "execution_count": null,
   "id": "finite-manitoba",
   "metadata": {},
   "outputs": [],
   "source": []
  },
  {
   "cell_type": "code",
   "execution_count": null,
   "id": "level-difficulty",
   "metadata": {},
   "outputs": [],
   "source": []
  },
  {
   "cell_type": "code",
   "execution_count": null,
   "id": "funded-supplement",
   "metadata": {},
   "outputs": [],
   "source": []
  },
  {
   "cell_type": "code",
   "execution_count": null,
   "id": "turkish-freeware",
   "metadata": {},
   "outputs": [],
   "source": []
  },
  {
   "cell_type": "code",
   "execution_count": null,
   "id": "expired-europe",
   "metadata": {},
   "outputs": [],
   "source": []
  },
  {
   "cell_type": "code",
   "execution_count": null,
   "id": "blessed-sentence",
   "metadata": {},
   "outputs": [],
   "source": []
  },
  {
   "cell_type": "code",
   "execution_count": null,
   "id": "anonymous-shooting",
   "metadata": {
    "ExecuteTime": {
     "end_time": "2022-03-07T13:09:15.219715Z",
     "start_time": "2022-03-07T13:09:12.163761Z"
    }
   },
   "outputs": [],
   "source": [
    "fig, ax = plt.subplots(figsize=(16,9))\n",
    "f = []\n",
    "Ps = 0\n",
    "for i in range(S):\n",
    "    ps, freq = ax.psd(U[10*Ntau:100000,i].real, len(U[10*Ntau:100000,i]), 1)\n",
    "    f.append(freq[np.argmax(ps)])\n",
    "    try:\n",
    "        Ps = Ps+ps\n",
    "    except:\n",
    "        Ps = ps\n",
    "    \n",
    "    #ax.scatter(freq, np.log10(ps))\n",
    "\n",
    "ax.set_xscale('log')\n",
    "ax.set_xlim(1e-5, 1e-2)\n",
    "ax.set_ylim(-200, 100)\n",
    "ax.set_yticks(np.arange(-175,100, 25))\n",
    "ax.set_title(r'$S={0}, \\tilde\\tau={1:1.4f}$'.format(S, Ntau*Dt))\n",
    "\n",
    "directory = '/Xdistr_dA_{0:1.2f}_dB_{1:1.2f}_S_{2}_c_{3:1.2f}_sigma_{4:1.2f}_Nsteps_{5}_tau_{6}/'.format(dA,dB,S,c,sigma,Nsteps,Ntau)\n",
    "os.chdir(FIG_PATH + directory)\n",
    "filename = 'Xdistr_PSdensity_dA_{0:1.2f}_dB_{1:1.2f}_S_{2}_c_{3:1.2f}_sigma_{4:1.2f}_Nsteps_{5}_tau_{6}.png'.format(dA,dB,S,c,sigma,Nsteps,Ntau)\n",
    "fig.savefig(filename, dpi=200)\n",
    "os.chdir(LOCAL_PATH)"
   ]
  },
  {
   "cell_type": "code",
   "execution_count": null,
   "id": "thirty-sharp",
   "metadata": {
    "ExecuteTime": {
     "end_time": "2022-03-04T10:48:54.026302Z",
     "start_time": "2022-03-04T10:48:53.239098Z"
    }
   },
   "outputs": [],
   "source": [
    "sns.set_theme(font=\"Avenir\", font_scale=2., style=\"ticks\")\n",
    "\n",
    "fig, ax = plt.subplots(figsize=(16,9))\n",
    "ax.vlines(np.sqrt(dA), 0 , 1.*max(Ps), ls='--', lw=2, color='#222222')\n",
    "ax.plot(2*np.pi*freq/Dt, Ps)\n",
    "ax.set_xscale('log')\n",
    "#ax.set_xlabel(r'$\\omega$')\n",
    "ax.set_xlabel('omega')"
   ]
  },
  {
   "cell_type": "code",
   "execution_count": null,
   "id": "ethical-legend",
   "metadata": {
    "ExecuteTime": {
     "end_time": "2022-03-04T09:46:59.945951Z",
     "start_time": "2022-03-04T09:46:57.928625Z"
    }
   },
   "outputs": [],
   "source": [
    "fig, ax = plt.subplots(figsize =(16,9))\n",
    "\n",
    "ax.scatter(np.arange(S), 2*np.pi*np.array(f)/Dt)\n",
    "ax.set_xlabel('species')\n",
    "ax.set_ylabel(r'$\\omega$ (max power spectrum)')\n",
    "ax.hlines(np.sqrt(dA), 0, S-1, color='black', ls='--', label=r'$\\sqrt{d_A}$')\n",
    "ax.legend()\n",
    "\n",
    "ax.set_title(r'$S={0}, \\tilde\\tau={1:1.4f}$'.format(S, Ntau*Dt))\n",
    "\n",
    "directory = '/Xdistr_dA_{0:1.2f}_dB_{1:1.2f}_S_{2}_c_{3:1.2f}_sigma_{4:1.2f}_Nsteps_{5}_tau_{6}/'.format(dA,dB,S,c,sigma,Nsteps,Ntau)\n",
    "os.chdir(FIG_PATH + directory)\n",
    "filename = 'Xdistr_omegachar_dA_{0:1.2f}_dB_{1:1.2f}_S_{2}_c_{3:1.2f}_sigma_{4:1.2f}_Nsteps_{5}_tau_{6}.png'.format(dA,dB,S,c,sigma,Nsteps,Ntau)\n",
    "fig.savefig(filename, dpi=200)\n",
    "os.chdir(LOCAL_PATH)"
   ]
  },
  {
   "cell_type": "code",
   "execution_count": null,
   "id": "downtown-nowhere",
   "metadata": {
    "ExecuteTime": {
     "end_time": "2022-03-04T09:12:05.207200Z",
     "start_time": "2022-03-04T09:12:05.160743Z"
    }
   },
   "outputs": [],
   "source": [
    "np.sqrt(dA)"
   ]
  },
  {
   "cell_type": "code",
   "execution_count": null,
   "id": "activated-ultimate",
   "metadata": {
    "ExecuteTime": {
     "end_time": "2022-03-04T08:57:32.148552Z",
     "start_time": "2022-03-04T08:57:31.856259Z"
    }
   },
   "outputs": [],
   "source": [
    "fig, ax = plt.subplots(figsize = (16,9))\n",
    "\n",
    "ax.plot(U[10*Ntau:,5].real)\n",
    "ax.plot(t, 2*np.cos(freq[np.argmax(ps)]*2*np.pi*t))\n",
    "print(freq[np.argmax(ps)])"
   ]
  },
  {
   "cell_type": "code",
   "execution_count": null,
   "id": "looking-sending",
   "metadata": {
    "ExecuteTime": {
     "end_time": "2022-03-04T08:53:13.338900Z",
     "start_time": "2022-03-04T08:53:13.127244Z"
    }
   },
   "outputs": [],
   "source": [
    "t = np.arange(0, len(U[10*Ntau:,5]), 1)\n",
    "plt.plot(t, np.cos(freq[np.argmax(ps)]*2*np.pi*t))"
   ]
  },
  {
   "cell_type": "code",
   "execution_count": null,
   "id": "stopped-rendering",
   "metadata": {
    "ExecuteTime": {
     "end_time": "2022-03-07T15:07:08.615840Z",
     "start_time": "2022-03-07T15:05:52.893295Z"
    }
   },
   "outputs": [],
   "source": [
    "X, U = mf.numerical_integration(S, dA, dB, c, sigma, Dt, Nsteps_max=int(1e4), Ntau=1000, x0=1, flag='stabilized')"
   ]
  },
  {
   "cell_type": "code",
   "execution_count": null,
   "id": "binary-bacteria",
   "metadata": {
    "ExecuteTime": {
     "end_time": "2022-03-07T16:37:25.572863Z",
     "start_time": "2022-03-07T16:37:25.020727Z"
    }
   },
   "outputs": [],
   "source": [
    "fig, ax = plt.subplots(figsize=(10,8))\n",
    "for i in range(U.shape[1]):\n",
    "    ax.plot(U[10000:,i].real)"
   ]
  },
  {
   "cell_type": "code",
   "execution_count": null,
   "id": "premier-subcommittee",
   "metadata": {
    "ExecuteTime": {
     "end_time": "2022-03-07T15:07:28.509053Z",
     "start_time": "2022-03-07T15:07:28.306010Z"
    }
   },
   "outputs": [],
   "source": [
    "plt.plot(X[:,10])"
   ]
  },
  {
   "cell_type": "code",
   "execution_count": null,
   "id": "smart-monroe",
   "metadata": {},
   "outputs": [],
   "source": []
  }
 ],
 "metadata": {
  "kernelspec": {
   "display_name": "Python 3",
   "language": "python",
   "name": "python3"
  },
  "language_info": {
   "codemirror_mode": {
    "name": "ipython",
    "version": 3
   },
   "file_extension": ".py",
   "mimetype": "text/x-python",
   "name": "python",
   "nbconvert_exporter": "python",
   "pygments_lexer": "ipython3",
   "version": "3.9.2"
  }
 },
 "nbformat": 4,
 "nbformat_minor": 5
}
